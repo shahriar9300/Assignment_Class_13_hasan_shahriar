{
 "cells": [
  {
   "cell_type": "code",
   "execution_count": 45,
   "id": "abc5965b",
   "metadata": {},
   "outputs": [],
   "source": [
    "#import libraries \n",
    "import pandas as pd \n",
    "import numpy as np \n",
    "import seaborn as sns \n",
    "import matplotlib.pyplot as plt "
   ]
  },
  {
   "cell_type": "code",
   "execution_count": 46,
   "id": "5fc62fdf",
   "metadata": {},
   "outputs": [],
   "source": [
    "df=pd.read_csv(\"data.csv\")"
   ]
  },
  {
   "cell_type": "code",
   "execution_count": 47,
   "id": "6812163a",
   "metadata": {},
   "outputs": [
    {
     "data": {
      "text/html": [
       "<div>\n",
       "<style scoped>\n",
       "    .dataframe tbody tr th:only-of-type {\n",
       "        vertical-align: middle;\n",
       "    }\n",
       "\n",
       "    .dataframe tbody tr th {\n",
       "        vertical-align: top;\n",
       "    }\n",
       "\n",
       "    .dataframe thead th {\n",
       "        text-align: right;\n",
       "    }\n",
       "</style>\n",
       "<table border=\"1\" class=\"dataframe\">\n",
       "  <thead>\n",
       "    <tr style=\"text-align: right;\">\n",
       "      <th></th>\n",
       "      <th>Unnamed: 0</th>\n",
       "      <th>gender</th>\n",
       "      <th>SeniorCitizen</th>\n",
       "      <th>Partner</th>\n",
       "      <th>Dependents</th>\n",
       "      <th>tenure</th>\n",
       "      <th>PhoneService</th>\n",
       "      <th>MultipleLines</th>\n",
       "      <th>InternetService</th>\n",
       "      <th>OnlineSecurity</th>\n",
       "      <th>...</th>\n",
       "      <th>DeviceProtection</th>\n",
       "      <th>TechSupport</th>\n",
       "      <th>StreamingTV</th>\n",
       "      <th>StreamingMovies</th>\n",
       "      <th>Contract</th>\n",
       "      <th>PaperlessBilling</th>\n",
       "      <th>PaymentMethod</th>\n",
       "      <th>MonthlyCharges</th>\n",
       "      <th>TotalCharges</th>\n",
       "      <th>Churn</th>\n",
       "    </tr>\n",
       "  </thead>\n",
       "  <tbody>\n",
       "    <tr>\n",
       "      <th>0</th>\n",
       "      <td>6607</td>\n",
       "      <td>1</td>\n",
       "      <td>0</td>\n",
       "      <td>0</td>\n",
       "      <td>1</td>\n",
       "      <td>1</td>\n",
       "      <td>0</td>\n",
       "      <td>1</td>\n",
       "      <td>0</td>\n",
       "      <td>0</td>\n",
       "      <td>...</td>\n",
       "      <td>0</td>\n",
       "      <td>0</td>\n",
       "      <td>0</td>\n",
       "      <td>0</td>\n",
       "      <td>0</td>\n",
       "      <td>1</td>\n",
       "      <td>2</td>\n",
       "      <td>25.30</td>\n",
       "      <td>2153</td>\n",
       "      <td>1</td>\n",
       "    </tr>\n",
       "    <tr>\n",
       "      <th>1</th>\n",
       "      <td>2598</td>\n",
       "      <td>0</td>\n",
       "      <td>0</td>\n",
       "      <td>0</td>\n",
       "      <td>0</td>\n",
       "      <td>7</td>\n",
       "      <td>1</td>\n",
       "      <td>0</td>\n",
       "      <td>1</td>\n",
       "      <td>0</td>\n",
       "      <td>...</td>\n",
       "      <td>2</td>\n",
       "      <td>0</td>\n",
       "      <td>0</td>\n",
       "      <td>0</td>\n",
       "      <td>0</td>\n",
       "      <td>1</td>\n",
       "      <td>2</td>\n",
       "      <td>75.15</td>\n",
       "      <td>4396</td>\n",
       "      <td>0</td>\n",
       "    </tr>\n",
       "    <tr>\n",
       "      <th>2</th>\n",
       "      <td>2345</td>\n",
       "      <td>0</td>\n",
       "      <td>0</td>\n",
       "      <td>0</td>\n",
       "      <td>1</td>\n",
       "      <td>4</td>\n",
       "      <td>1</td>\n",
       "      <td>0</td>\n",
       "      <td>2</td>\n",
       "      <td>1</td>\n",
       "      <td>...</td>\n",
       "      <td>1</td>\n",
       "      <td>1</td>\n",
       "      <td>1</td>\n",
       "      <td>1</td>\n",
       "      <td>0</td>\n",
       "      <td>1</td>\n",
       "      <td>0</td>\n",
       "      <td>20.05</td>\n",
       "      <td>6211</td>\n",
       "      <td>0</td>\n",
       "    </tr>\n",
       "    <tr>\n",
       "      <th>3</th>\n",
       "      <td>4093</td>\n",
       "      <td>0</td>\n",
       "      <td>0</td>\n",
       "      <td>0</td>\n",
       "      <td>0</td>\n",
       "      <td>29</td>\n",
       "      <td>1</td>\n",
       "      <td>2</td>\n",
       "      <td>1</td>\n",
       "      <td>0</td>\n",
       "      <td>...</td>\n",
       "      <td>0</td>\n",
       "      <td>0</td>\n",
       "      <td>0</td>\n",
       "      <td>0</td>\n",
       "      <td>0</td>\n",
       "      <td>1</td>\n",
       "      <td>1</td>\n",
       "      <td>76.00</td>\n",
       "      <td>1850</td>\n",
       "      <td>0</td>\n",
       "    </tr>\n",
       "    <tr>\n",
       "      <th>4</th>\n",
       "      <td>693</td>\n",
       "      <td>0</td>\n",
       "      <td>0</td>\n",
       "      <td>0</td>\n",
       "      <td>0</td>\n",
       "      <td>3</td>\n",
       "      <td>1</td>\n",
       "      <td>2</td>\n",
       "      <td>1</td>\n",
       "      <td>0</td>\n",
       "      <td>...</td>\n",
       "      <td>0</td>\n",
       "      <td>0</td>\n",
       "      <td>0</td>\n",
       "      <td>0</td>\n",
       "      <td>0</td>\n",
       "      <td>1</td>\n",
       "      <td>1</td>\n",
       "      <td>75.10</td>\n",
       "      <td>2350</td>\n",
       "      <td>1</td>\n",
       "    </tr>\n",
       "  </tbody>\n",
       "</table>\n",
       "<p>5 rows × 21 columns</p>\n",
       "</div>"
      ],
      "text/plain": [
       "   Unnamed: 0  gender  SeniorCitizen  Partner  Dependents  tenure  \\\n",
       "0        6607       1              0        0           1       1   \n",
       "1        2598       0              0        0           0       7   \n",
       "2        2345       0              0        0           1       4   \n",
       "3        4093       0              0        0           0      29   \n",
       "4         693       0              0        0           0       3   \n",
       "\n",
       "   PhoneService  MultipleLines  InternetService  OnlineSecurity  ...  \\\n",
       "0             0              1                0               0  ...   \n",
       "1             1              0                1               0  ...   \n",
       "2             1              0                2               1  ...   \n",
       "3             1              2                1               0  ...   \n",
       "4             1              2                1               0  ...   \n",
       "\n",
       "   DeviceProtection  TechSupport  StreamingTV  StreamingMovies  Contract  \\\n",
       "0                 0            0            0                0         0   \n",
       "1                 2            0            0                0         0   \n",
       "2                 1            1            1                1         0   \n",
       "3                 0            0            0                0         0   \n",
       "4                 0            0            0                0         0   \n",
       "\n",
       "   PaperlessBilling  PaymentMethod  MonthlyCharges  TotalCharges  Churn  \n",
       "0                 1              2           25.30          2153      1  \n",
       "1                 1              2           75.15          4396      0  \n",
       "2                 1              0           20.05          6211      0  \n",
       "3                 1              1           76.00          1850      0  \n",
       "4                 1              1           75.10          2350      1  \n",
       "\n",
       "[5 rows x 21 columns]"
      ]
     },
     "execution_count": 47,
     "metadata": {},
     "output_type": "execute_result"
    }
   ],
   "source": [
    "df.head()"
   ]
  },
  {
   "cell_type": "code",
   "execution_count": 48,
   "id": "68dd2096",
   "metadata": {},
   "outputs": [
    {
     "data": {
      "text/plain": [
       "Index(['Unnamed: 0', 'gender', 'SeniorCitizen', 'Partner', 'Dependents',\n",
       "       'tenure', 'PhoneService', 'MultipleLines', 'InternetService',\n",
       "       'OnlineSecurity', 'OnlineBackup', 'DeviceProtection', 'TechSupport',\n",
       "       'StreamingTV', 'StreamingMovies', 'Contract', 'PaperlessBilling',\n",
       "       'PaymentMethod', 'MonthlyCharges', 'TotalCharges', 'Churn'],\n",
       "      dtype='object')"
      ]
     },
     "execution_count": 48,
     "metadata": {},
     "output_type": "execute_result"
    }
   ],
   "source": [
    "df.columns"
   ]
  },
  {
   "cell_type": "code",
   "execution_count": 49,
   "id": "74513dd4",
   "metadata": {},
   "outputs": [],
   "source": [
    "df=df.drop(\"Unnamed: 0\",axis=1)"
   ]
  },
  {
   "cell_type": "code",
   "execution_count": 50,
   "id": "c4c2ce20",
   "metadata": {},
   "outputs": [
    {
     "data": {
      "text/plain": [
       "gender              0\n",
       "SeniorCitizen       0\n",
       "Partner             0\n",
       "Dependents          0\n",
       "tenure              0\n",
       "PhoneService        0\n",
       "MultipleLines       0\n",
       "InternetService     0\n",
       "OnlineSecurity      0\n",
       "OnlineBackup        0\n",
       "DeviceProtection    0\n",
       "TechSupport         0\n",
       "StreamingTV         0\n",
       "StreamingMovies     0\n",
       "Contract            0\n",
       "PaperlessBilling    0\n",
       "PaymentMethod       0\n",
       "MonthlyCharges      0\n",
       "TotalCharges        0\n",
       "Churn               0\n",
       "dtype: int64"
      ]
     },
     "execution_count": 50,
     "metadata": {},
     "output_type": "execute_result"
    }
   ],
   "source": [
    "df.isnull().sum()"
   ]
  },
  {
   "cell_type": "code",
   "execution_count": 51,
   "id": "4dd5b260",
   "metadata": {},
   "outputs": [
    {
     "data": {
      "text/plain": [
       "0    3892\n",
       "1    1390\n",
       "Name: Churn, dtype: int64"
      ]
     },
     "execution_count": 51,
     "metadata": {},
     "output_type": "execute_result"
    }
   ],
   "source": [
    "df[\"Churn\"].value_counts()"
   ]
  },
  {
   "cell_type": "code",
   "execution_count": 52,
   "id": "e72c608a",
   "metadata": {},
   "outputs": [
    {
     "data": {
      "text/html": [
       "<div>\n",
       "<style scoped>\n",
       "    .dataframe tbody tr th:only-of-type {\n",
       "        vertical-align: middle;\n",
       "    }\n",
       "\n",
       "    .dataframe tbody tr th {\n",
       "        vertical-align: top;\n",
       "    }\n",
       "\n",
       "    .dataframe thead th {\n",
       "        text-align: right;\n",
       "    }\n",
       "</style>\n",
       "<table border=\"1\" class=\"dataframe\">\n",
       "  <thead>\n",
       "    <tr style=\"text-align: right;\">\n",
       "      <th></th>\n",
       "      <th>gender</th>\n",
       "      <th>SeniorCitizen</th>\n",
       "      <th>Partner</th>\n",
       "      <th>Dependents</th>\n",
       "      <th>tenure</th>\n",
       "      <th>PhoneService</th>\n",
       "      <th>MultipleLines</th>\n",
       "      <th>InternetService</th>\n",
       "      <th>OnlineSecurity</th>\n",
       "      <th>OnlineBackup</th>\n",
       "      <th>DeviceProtection</th>\n",
       "      <th>TechSupport</th>\n",
       "      <th>StreamingTV</th>\n",
       "      <th>StreamingMovies</th>\n",
       "      <th>Contract</th>\n",
       "      <th>PaperlessBilling</th>\n",
       "      <th>PaymentMethod</th>\n",
       "      <th>MonthlyCharges</th>\n",
       "      <th>TotalCharges</th>\n",
       "      <th>Churn</th>\n",
       "    </tr>\n",
       "  </thead>\n",
       "  <tbody>\n",
       "    <tr>\n",
       "      <th>gender</th>\n",
       "      <td>1.000000</td>\n",
       "      <td>-0.005691</td>\n",
       "      <td>-0.010143</td>\n",
       "      <td>0.011058</td>\n",
       "      <td>0.001303</td>\n",
       "      <td>-0.009706</td>\n",
       "      <td>-0.000430</td>\n",
       "      <td>-0.005294</td>\n",
       "      <td>-0.020189</td>\n",
       "      <td>-0.025773</td>\n",
       "      <td>-0.009305</td>\n",
       "      <td>-0.010619</td>\n",
       "      <td>-0.012994</td>\n",
       "      <td>-0.011420</td>\n",
       "      <td>0.000555</td>\n",
       "      <td>-0.014090</td>\n",
       "      <td>0.010188</td>\n",
       "      <td>-0.018822</td>\n",
       "      <td>-0.022718</td>\n",
       "      <td>-0.011997</td>\n",
       "    </tr>\n",
       "    <tr>\n",
       "      <th>SeniorCitizen</th>\n",
       "      <td>-0.005691</td>\n",
       "      <td>1.000000</td>\n",
       "      <td>0.016648</td>\n",
       "      <td>-0.211271</td>\n",
       "      <td>0.006176</td>\n",
       "      <td>0.000581</td>\n",
       "      <td>0.129040</td>\n",
       "      <td>-0.040186</td>\n",
       "      <td>-0.129719</td>\n",
       "      <td>-0.012166</td>\n",
       "      <td>-0.015922</td>\n",
       "      <td>-0.151078</td>\n",
       "      <td>0.024338</td>\n",
       "      <td>0.043124</td>\n",
       "      <td>-0.151939</td>\n",
       "      <td>0.156417</td>\n",
       "      <td>-0.035050</td>\n",
       "      <td>0.219945</td>\n",
       "      <td>0.040956</td>\n",
       "      <td>0.146549</td>\n",
       "    </tr>\n",
       "    <tr>\n",
       "      <th>Partner</th>\n",
       "      <td>-0.010143</td>\n",
       "      <td>0.016648</td>\n",
       "      <td>1.000000</td>\n",
       "      <td>0.447629</td>\n",
       "      <td>0.382432</td>\n",
       "      <td>0.031578</td>\n",
       "      <td>0.151068</td>\n",
       "      <td>0.007205</td>\n",
       "      <td>0.159928</td>\n",
       "      <td>0.166939</td>\n",
       "      <td>0.168815</td>\n",
       "      <td>0.132582</td>\n",
       "      <td>0.136715</td>\n",
       "      <td>0.122310</td>\n",
       "      <td>0.303243</td>\n",
       "      <td>-0.020634</td>\n",
       "      <td>-0.160535</td>\n",
       "      <td>0.105603</td>\n",
       "      <td>0.069859</td>\n",
       "      <td>-0.150053</td>\n",
       "    </tr>\n",
       "    <tr>\n",
       "      <th>Dependents</th>\n",
       "      <td>0.011058</td>\n",
       "      <td>-0.211271</td>\n",
       "      <td>0.447629</td>\n",
       "      <td>1.000000</td>\n",
       "      <td>0.162933</td>\n",
       "      <td>-0.005830</td>\n",
       "      <td>-0.020722</td>\n",
       "      <td>0.041972</td>\n",
       "      <td>0.157262</td>\n",
       "      <td>0.095640</td>\n",
       "      <td>0.076783</td>\n",
       "      <td>0.137274</td>\n",
       "      <td>0.045948</td>\n",
       "      <td>0.023907</td>\n",
       "      <td>0.243080</td>\n",
       "      <td>-0.109935</td>\n",
       "      <td>-0.040414</td>\n",
       "      <td>-0.114920</td>\n",
       "      <td>-0.013196</td>\n",
       "      <td>-0.164490</td>\n",
       "    </tr>\n",
       "    <tr>\n",
       "      <th>tenure</th>\n",
       "      <td>0.001303</td>\n",
       "      <td>0.006176</td>\n",
       "      <td>0.382432</td>\n",
       "      <td>0.162933</td>\n",
       "      <td>1.000000</td>\n",
       "      <td>0.005912</td>\n",
       "      <td>0.354790</td>\n",
       "      <td>-0.032037</td>\n",
       "      <td>0.325451</td>\n",
       "      <td>0.371342</td>\n",
       "      <td>0.369331</td>\n",
       "      <td>0.326993</td>\n",
       "      <td>0.288135</td>\n",
       "      <td>0.301600</td>\n",
       "      <td>0.671184</td>\n",
       "      <td>0.004043</td>\n",
       "      <td>-0.360323</td>\n",
       "      <td>0.253605</td>\n",
       "      <td>0.152843</td>\n",
       "      <td>-0.345544</td>\n",
       "    </tr>\n",
       "    <tr>\n",
       "      <th>PhoneService</th>\n",
       "      <td>-0.009706</td>\n",
       "      <td>0.000581</td>\n",
       "      <td>0.031578</td>\n",
       "      <td>-0.005830</td>\n",
       "      <td>0.005912</td>\n",
       "      <td>1.000000</td>\n",
       "      <td>-0.016345</td>\n",
       "      <td>0.385682</td>\n",
       "      <td>-0.007874</td>\n",
       "      <td>0.017500</td>\n",
       "      <td>0.000422</td>\n",
       "      <td>-0.006139</td>\n",
       "      <td>0.055390</td>\n",
       "      <td>0.048362</td>\n",
       "      <td>0.005342</td>\n",
       "      <td>0.014489</td>\n",
       "      <td>0.006362</td>\n",
       "      <td>0.247419</td>\n",
       "      <td>0.081045</td>\n",
       "      <td>0.010122</td>\n",
       "    </tr>\n",
       "    <tr>\n",
       "      <th>MultipleLines</th>\n",
       "      <td>-0.000430</td>\n",
       "      <td>0.129040</td>\n",
       "      <td>0.151068</td>\n",
       "      <td>-0.020722</td>\n",
       "      <td>0.354790</td>\n",
       "      <td>-0.016345</td>\n",
       "      <td>1.000000</td>\n",
       "      <td>-0.105796</td>\n",
       "      <td>0.006028</td>\n",
       "      <td>0.134460</td>\n",
       "      <td>0.132798</td>\n",
       "      <td>0.019266</td>\n",
       "      <td>0.172380</td>\n",
       "      <td>0.188860</td>\n",
       "      <td>0.120023</td>\n",
       "      <td>0.172369</td>\n",
       "      <td>-0.176313</td>\n",
       "      <td>0.436398</td>\n",
       "      <td>0.118773</td>\n",
       "      <td>0.031270</td>\n",
       "    </tr>\n",
       "    <tr>\n",
       "      <th>InternetService</th>\n",
       "      <td>-0.005294</td>\n",
       "      <td>-0.040186</td>\n",
       "      <td>0.007205</td>\n",
       "      <td>0.041972</td>\n",
       "      <td>-0.032037</td>\n",
       "      <td>0.385682</td>\n",
       "      <td>-0.105796</td>\n",
       "      <td>1.000000</td>\n",
       "      <td>-0.027201</td>\n",
       "      <td>0.032058</td>\n",
       "      <td>0.048320</td>\n",
       "      <td>-0.018510</td>\n",
       "      <td>0.101060</td>\n",
       "      <td>0.092672</td>\n",
       "      <td>0.097158</td>\n",
       "      <td>-0.141856</td>\n",
       "      <td>0.095054</td>\n",
       "      <td>-0.325588</td>\n",
       "      <td>-0.064748</td>\n",
       "      <td>-0.048820</td>\n",
       "    </tr>\n",
       "    <tr>\n",
       "      <th>OnlineSecurity</th>\n",
       "      <td>-0.020189</td>\n",
       "      <td>-0.129719</td>\n",
       "      <td>0.159928</td>\n",
       "      <td>0.157262</td>\n",
       "      <td>0.325451</td>\n",
       "      <td>-0.007874</td>\n",
       "      <td>0.006028</td>\n",
       "      <td>-0.027201</td>\n",
       "      <td>1.000000</td>\n",
       "      <td>0.186626</td>\n",
       "      <td>0.182355</td>\n",
       "      <td>0.276510</td>\n",
       "      <td>0.057760</td>\n",
       "      <td>0.065996</td>\n",
       "      <td>0.371159</td>\n",
       "      <td>-0.146473</td>\n",
       "      <td>-0.085892</td>\n",
       "      <td>-0.049605</td>\n",
       "      <td>0.036493</td>\n",
       "      <td>-0.288926</td>\n",
       "    </tr>\n",
       "    <tr>\n",
       "      <th>OnlineBackup</th>\n",
       "      <td>-0.025773</td>\n",
       "      <td>-0.012166</td>\n",
       "      <td>0.166939</td>\n",
       "      <td>0.095640</td>\n",
       "      <td>0.371342</td>\n",
       "      <td>0.017500</td>\n",
       "      <td>0.134460</td>\n",
       "      <td>0.032058</td>\n",
       "      <td>0.186626</td>\n",
       "      <td>1.000000</td>\n",
       "      <td>0.191348</td>\n",
       "      <td>0.189892</td>\n",
       "      <td>0.142882</td>\n",
       "      <td>0.151145</td>\n",
       "      <td>0.282646</td>\n",
       "      <td>-0.019611</td>\n",
       "      <td>-0.111508</td>\n",
       "      <td>0.125340</td>\n",
       "      <td>0.090223</td>\n",
       "      <td>-0.193152</td>\n",
       "    </tr>\n",
       "    <tr>\n",
       "      <th>DeviceProtection</th>\n",
       "      <td>-0.009305</td>\n",
       "      <td>-0.015922</td>\n",
       "      <td>0.168815</td>\n",
       "      <td>0.076783</td>\n",
       "      <td>0.369331</td>\n",
       "      <td>0.000422</td>\n",
       "      <td>0.132798</td>\n",
       "      <td>0.048320</td>\n",
       "      <td>0.182355</td>\n",
       "      <td>0.191348</td>\n",
       "      <td>1.000000</td>\n",
       "      <td>0.247866</td>\n",
       "      <td>0.278896</td>\n",
       "      <td>0.301894</td>\n",
       "      <td>0.352138</td>\n",
       "      <td>-0.032091</td>\n",
       "      <td>-0.135513</td>\n",
       "      <td>0.162808</td>\n",
       "      <td>0.103120</td>\n",
       "      <td>-0.173138</td>\n",
       "    </tr>\n",
       "    <tr>\n",
       "      <th>TechSupport</th>\n",
       "      <td>-0.010619</td>\n",
       "      <td>-0.151078</td>\n",
       "      <td>0.132582</td>\n",
       "      <td>0.137274</td>\n",
       "      <td>0.326993</td>\n",
       "      <td>-0.006139</td>\n",
       "      <td>0.019266</td>\n",
       "      <td>-0.018510</td>\n",
       "      <td>0.276510</td>\n",
       "      <td>0.189892</td>\n",
       "      <td>0.247866</td>\n",
       "      <td>1.000000</td>\n",
       "      <td>0.174178</td>\n",
       "      <td>0.172420</td>\n",
       "      <td>0.428750</td>\n",
       "      <td>-0.113245</td>\n",
       "      <td>-0.097672</td>\n",
       "      <td>-0.001710</td>\n",
       "      <td>0.053532</td>\n",
       "      <td>-0.274718</td>\n",
       "    </tr>\n",
       "    <tr>\n",
       "      <th>StreamingTV</th>\n",
       "      <td>-0.012994</td>\n",
       "      <td>0.024338</td>\n",
       "      <td>0.136715</td>\n",
       "      <td>0.045948</td>\n",
       "      <td>0.288135</td>\n",
       "      <td>0.055390</td>\n",
       "      <td>0.172380</td>\n",
       "      <td>0.101060</td>\n",
       "      <td>0.057760</td>\n",
       "      <td>0.142882</td>\n",
       "      <td>0.278896</td>\n",
       "      <td>0.174178</td>\n",
       "      <td>1.000000</td>\n",
       "      <td>0.437809</td>\n",
       "      <td>0.231143</td>\n",
       "      <td>0.101389</td>\n",
       "      <td>-0.100597</td>\n",
       "      <td>0.338557</td>\n",
       "      <td>0.134112</td>\n",
       "      <td>-0.043920</td>\n",
       "    </tr>\n",
       "    <tr>\n",
       "      <th>StreamingMovies</th>\n",
       "      <td>-0.011420</td>\n",
       "      <td>0.043124</td>\n",
       "      <td>0.122310</td>\n",
       "      <td>0.023907</td>\n",
       "      <td>0.301600</td>\n",
       "      <td>0.048362</td>\n",
       "      <td>0.188860</td>\n",
       "      <td>0.092672</td>\n",
       "      <td>0.065996</td>\n",
       "      <td>0.151145</td>\n",
       "      <td>0.301894</td>\n",
       "      <td>0.172420</td>\n",
       "      <td>0.437809</td>\n",
       "      <td>1.000000</td>\n",
       "      <td>0.236128</td>\n",
       "      <td>0.075255</td>\n",
       "      <td>-0.114956</td>\n",
       "      <td>0.339162</td>\n",
       "      <td>0.150553</td>\n",
       "      <td>-0.038240</td>\n",
       "    </tr>\n",
       "    <tr>\n",
       "      <th>Contract</th>\n",
       "      <td>0.000555</td>\n",
       "      <td>-0.151939</td>\n",
       "      <td>0.303243</td>\n",
       "      <td>0.243080</td>\n",
       "      <td>0.671184</td>\n",
       "      <td>0.005342</td>\n",
       "      <td>0.120023</td>\n",
       "      <td>0.097158</td>\n",
       "      <td>0.371159</td>\n",
       "      <td>0.282646</td>\n",
       "      <td>0.352138</td>\n",
       "      <td>0.428750</td>\n",
       "      <td>0.231143</td>\n",
       "      <td>0.236128</td>\n",
       "      <td>1.000000</td>\n",
       "      <td>-0.185507</td>\n",
       "      <td>-0.218531</td>\n",
       "      <td>-0.067540</td>\n",
       "      <td>0.104879</td>\n",
       "      <td>-0.394490</td>\n",
       "    </tr>\n",
       "    <tr>\n",
       "      <th>PaperlessBilling</th>\n",
       "      <td>-0.014090</td>\n",
       "      <td>0.156417</td>\n",
       "      <td>-0.020634</td>\n",
       "      <td>-0.109935</td>\n",
       "      <td>0.004043</td>\n",
       "      <td>0.014489</td>\n",
       "      <td>0.172369</td>\n",
       "      <td>-0.141856</td>\n",
       "      <td>-0.146473</td>\n",
       "      <td>-0.019611</td>\n",
       "      <td>-0.032091</td>\n",
       "      <td>-0.113245</td>\n",
       "      <td>0.101389</td>\n",
       "      <td>0.075255</td>\n",
       "      <td>-0.185507</td>\n",
       "      <td>1.000000</td>\n",
       "      <td>-0.063408</td>\n",
       "      <td>0.359566</td>\n",
       "      <td>0.101619</td>\n",
       "      <td>0.188793</td>\n",
       "    </tr>\n",
       "    <tr>\n",
       "      <th>PaymentMethod</th>\n",
       "      <td>0.010188</td>\n",
       "      <td>-0.035050</td>\n",
       "      <td>-0.160535</td>\n",
       "      <td>-0.040414</td>\n",
       "      <td>-0.360323</td>\n",
       "      <td>0.006362</td>\n",
       "      <td>-0.176313</td>\n",
       "      <td>0.095054</td>\n",
       "      <td>-0.085892</td>\n",
       "      <td>-0.111508</td>\n",
       "      <td>-0.135513</td>\n",
       "      <td>-0.097672</td>\n",
       "      <td>-0.100597</td>\n",
       "      <td>-0.114956</td>\n",
       "      <td>-0.218531</td>\n",
       "      <td>-0.063408</td>\n",
       "      <td>1.000000</td>\n",
       "      <td>-0.194857</td>\n",
       "      <td>-0.056972</td>\n",
       "      <td>0.100015</td>\n",
       "    </tr>\n",
       "    <tr>\n",
       "      <th>MonthlyCharges</th>\n",
       "      <td>-0.018822</td>\n",
       "      <td>0.219945</td>\n",
       "      <td>0.105603</td>\n",
       "      <td>-0.114920</td>\n",
       "      <td>0.253605</td>\n",
       "      <td>0.247419</td>\n",
       "      <td>0.436398</td>\n",
       "      <td>-0.325588</td>\n",
       "      <td>-0.049605</td>\n",
       "      <td>0.125340</td>\n",
       "      <td>0.162808</td>\n",
       "      <td>-0.001710</td>\n",
       "      <td>0.338557</td>\n",
       "      <td>0.339162</td>\n",
       "      <td>-0.067540</td>\n",
       "      <td>0.359566</td>\n",
       "      <td>-0.194857</td>\n",
       "      <td>1.000000</td>\n",
       "      <td>0.279822</td>\n",
       "      <td>0.186615</td>\n",
       "    </tr>\n",
       "    <tr>\n",
       "      <th>TotalCharges</th>\n",
       "      <td>-0.022718</td>\n",
       "      <td>0.040956</td>\n",
       "      <td>0.069859</td>\n",
       "      <td>-0.013196</td>\n",
       "      <td>0.152843</td>\n",
       "      <td>0.081045</td>\n",
       "      <td>0.118773</td>\n",
       "      <td>-0.064748</td>\n",
       "      <td>0.036493</td>\n",
       "      <td>0.090223</td>\n",
       "      <td>0.103120</td>\n",
       "      <td>0.053532</td>\n",
       "      <td>0.134112</td>\n",
       "      <td>0.150553</td>\n",
       "      <td>0.104879</td>\n",
       "      <td>0.101619</td>\n",
       "      <td>-0.056972</td>\n",
       "      <td>0.279822</td>\n",
       "      <td>1.000000</td>\n",
       "      <td>0.020294</td>\n",
       "    </tr>\n",
       "    <tr>\n",
       "      <th>Churn</th>\n",
       "      <td>-0.011997</td>\n",
       "      <td>0.146549</td>\n",
       "      <td>-0.150053</td>\n",
       "      <td>-0.164490</td>\n",
       "      <td>-0.345544</td>\n",
       "      <td>0.010122</td>\n",
       "      <td>0.031270</td>\n",
       "      <td>-0.048820</td>\n",
       "      <td>-0.288926</td>\n",
       "      <td>-0.193152</td>\n",
       "      <td>-0.173138</td>\n",
       "      <td>-0.274718</td>\n",
       "      <td>-0.043920</td>\n",
       "      <td>-0.038240</td>\n",
       "      <td>-0.394490</td>\n",
       "      <td>0.188793</td>\n",
       "      <td>0.100015</td>\n",
       "      <td>0.186615</td>\n",
       "      <td>0.020294</td>\n",
       "      <td>1.000000</td>\n",
       "    </tr>\n",
       "  </tbody>\n",
       "</table>\n",
       "</div>"
      ],
      "text/plain": [
       "                    gender  SeniorCitizen   Partner  Dependents    tenure  \\\n",
       "gender            1.000000      -0.005691 -0.010143    0.011058  0.001303   \n",
       "SeniorCitizen    -0.005691       1.000000  0.016648   -0.211271  0.006176   \n",
       "Partner          -0.010143       0.016648  1.000000    0.447629  0.382432   \n",
       "Dependents        0.011058      -0.211271  0.447629    1.000000  0.162933   \n",
       "tenure            0.001303       0.006176  0.382432    0.162933  1.000000   \n",
       "PhoneService     -0.009706       0.000581  0.031578   -0.005830  0.005912   \n",
       "MultipleLines    -0.000430       0.129040  0.151068   -0.020722  0.354790   \n",
       "InternetService  -0.005294      -0.040186  0.007205    0.041972 -0.032037   \n",
       "OnlineSecurity   -0.020189      -0.129719  0.159928    0.157262  0.325451   \n",
       "OnlineBackup     -0.025773      -0.012166  0.166939    0.095640  0.371342   \n",
       "DeviceProtection -0.009305      -0.015922  0.168815    0.076783  0.369331   \n",
       "TechSupport      -0.010619      -0.151078  0.132582    0.137274  0.326993   \n",
       "StreamingTV      -0.012994       0.024338  0.136715    0.045948  0.288135   \n",
       "StreamingMovies  -0.011420       0.043124  0.122310    0.023907  0.301600   \n",
       "Contract          0.000555      -0.151939  0.303243    0.243080  0.671184   \n",
       "PaperlessBilling -0.014090       0.156417 -0.020634   -0.109935  0.004043   \n",
       "PaymentMethod     0.010188      -0.035050 -0.160535   -0.040414 -0.360323   \n",
       "MonthlyCharges   -0.018822       0.219945  0.105603   -0.114920  0.253605   \n",
       "TotalCharges     -0.022718       0.040956  0.069859   -0.013196  0.152843   \n",
       "Churn            -0.011997       0.146549 -0.150053   -0.164490 -0.345544   \n",
       "\n",
       "                  PhoneService  MultipleLines  InternetService  \\\n",
       "gender               -0.009706      -0.000430        -0.005294   \n",
       "SeniorCitizen         0.000581       0.129040        -0.040186   \n",
       "Partner               0.031578       0.151068         0.007205   \n",
       "Dependents           -0.005830      -0.020722         0.041972   \n",
       "tenure                0.005912       0.354790        -0.032037   \n",
       "PhoneService          1.000000      -0.016345         0.385682   \n",
       "MultipleLines        -0.016345       1.000000        -0.105796   \n",
       "InternetService       0.385682      -0.105796         1.000000   \n",
       "OnlineSecurity       -0.007874       0.006028        -0.027201   \n",
       "OnlineBackup          0.017500       0.134460         0.032058   \n",
       "DeviceProtection      0.000422       0.132798         0.048320   \n",
       "TechSupport          -0.006139       0.019266        -0.018510   \n",
       "StreamingTV           0.055390       0.172380         0.101060   \n",
       "StreamingMovies       0.048362       0.188860         0.092672   \n",
       "Contract              0.005342       0.120023         0.097158   \n",
       "PaperlessBilling      0.014489       0.172369        -0.141856   \n",
       "PaymentMethod         0.006362      -0.176313         0.095054   \n",
       "MonthlyCharges        0.247419       0.436398        -0.325588   \n",
       "TotalCharges          0.081045       0.118773        -0.064748   \n",
       "Churn                 0.010122       0.031270        -0.048820   \n",
       "\n",
       "                  OnlineSecurity  OnlineBackup  DeviceProtection  TechSupport  \\\n",
       "gender                 -0.020189     -0.025773         -0.009305    -0.010619   \n",
       "SeniorCitizen          -0.129719     -0.012166         -0.015922    -0.151078   \n",
       "Partner                 0.159928      0.166939          0.168815     0.132582   \n",
       "Dependents              0.157262      0.095640          0.076783     0.137274   \n",
       "tenure                  0.325451      0.371342          0.369331     0.326993   \n",
       "PhoneService           -0.007874      0.017500          0.000422    -0.006139   \n",
       "MultipleLines           0.006028      0.134460          0.132798     0.019266   \n",
       "InternetService        -0.027201      0.032058          0.048320    -0.018510   \n",
       "OnlineSecurity          1.000000      0.186626          0.182355     0.276510   \n",
       "OnlineBackup            0.186626      1.000000          0.191348     0.189892   \n",
       "DeviceProtection        0.182355      0.191348          1.000000     0.247866   \n",
       "TechSupport             0.276510      0.189892          0.247866     1.000000   \n",
       "StreamingTV             0.057760      0.142882          0.278896     0.174178   \n",
       "StreamingMovies         0.065996      0.151145          0.301894     0.172420   \n",
       "Contract                0.371159      0.282646          0.352138     0.428750   \n",
       "PaperlessBilling       -0.146473     -0.019611         -0.032091    -0.113245   \n",
       "PaymentMethod          -0.085892     -0.111508         -0.135513    -0.097672   \n",
       "MonthlyCharges         -0.049605      0.125340          0.162808    -0.001710   \n",
       "TotalCharges            0.036493      0.090223          0.103120     0.053532   \n",
       "Churn                  -0.288926     -0.193152         -0.173138    -0.274718   \n",
       "\n",
       "                  StreamingTV  StreamingMovies  Contract  PaperlessBilling  \\\n",
       "gender              -0.012994        -0.011420  0.000555         -0.014090   \n",
       "SeniorCitizen        0.024338         0.043124 -0.151939          0.156417   \n",
       "Partner              0.136715         0.122310  0.303243         -0.020634   \n",
       "Dependents           0.045948         0.023907  0.243080         -0.109935   \n",
       "tenure               0.288135         0.301600  0.671184          0.004043   \n",
       "PhoneService         0.055390         0.048362  0.005342          0.014489   \n",
       "MultipleLines        0.172380         0.188860  0.120023          0.172369   \n",
       "InternetService      0.101060         0.092672  0.097158         -0.141856   \n",
       "OnlineSecurity       0.057760         0.065996  0.371159         -0.146473   \n",
       "OnlineBackup         0.142882         0.151145  0.282646         -0.019611   \n",
       "DeviceProtection     0.278896         0.301894  0.352138         -0.032091   \n",
       "TechSupport          0.174178         0.172420  0.428750         -0.113245   \n",
       "StreamingTV          1.000000         0.437809  0.231143          0.101389   \n",
       "StreamingMovies      0.437809         1.000000  0.236128          0.075255   \n",
       "Contract             0.231143         0.236128  1.000000         -0.185507   \n",
       "PaperlessBilling     0.101389         0.075255 -0.185507          1.000000   \n",
       "PaymentMethod       -0.100597        -0.114956 -0.218531         -0.063408   \n",
       "MonthlyCharges       0.338557         0.339162 -0.067540          0.359566   \n",
       "TotalCharges         0.134112         0.150553  0.104879          0.101619   \n",
       "Churn               -0.043920        -0.038240 -0.394490          0.188793   \n",
       "\n",
       "                  PaymentMethod  MonthlyCharges  TotalCharges     Churn  \n",
       "gender                 0.010188       -0.018822     -0.022718 -0.011997  \n",
       "SeniorCitizen         -0.035050        0.219945      0.040956  0.146549  \n",
       "Partner               -0.160535        0.105603      0.069859 -0.150053  \n",
       "Dependents            -0.040414       -0.114920     -0.013196 -0.164490  \n",
       "tenure                -0.360323        0.253605      0.152843 -0.345544  \n",
       "PhoneService           0.006362        0.247419      0.081045  0.010122  \n",
       "MultipleLines         -0.176313        0.436398      0.118773  0.031270  \n",
       "InternetService        0.095054       -0.325588     -0.064748 -0.048820  \n",
       "OnlineSecurity        -0.085892       -0.049605      0.036493 -0.288926  \n",
       "OnlineBackup          -0.111508        0.125340      0.090223 -0.193152  \n",
       "DeviceProtection      -0.135513        0.162808      0.103120 -0.173138  \n",
       "TechSupport           -0.097672       -0.001710      0.053532 -0.274718  \n",
       "StreamingTV           -0.100597        0.338557      0.134112 -0.043920  \n",
       "StreamingMovies       -0.114956        0.339162      0.150553 -0.038240  \n",
       "Contract              -0.218531       -0.067540      0.104879 -0.394490  \n",
       "PaperlessBilling      -0.063408        0.359566      0.101619  0.188793  \n",
       "PaymentMethod          1.000000       -0.194857     -0.056972  0.100015  \n",
       "MonthlyCharges        -0.194857        1.000000      0.279822  0.186615  \n",
       "TotalCharges          -0.056972        0.279822      1.000000  0.020294  \n",
       "Churn                  0.100015        0.186615      0.020294  1.000000  "
      ]
     },
     "execution_count": 52,
     "metadata": {},
     "output_type": "execute_result"
    }
   ],
   "source": [
    "df.corr()"
   ]
  },
  {
   "cell_type": "code",
   "execution_count": 53,
   "id": "ea7ff7f3",
   "metadata": {},
   "outputs": [
    {
     "data": {
      "text/plain": [
       "<AxesSubplot:>"
      ]
     },
     "execution_count": 53,
     "metadata": {},
     "output_type": "execute_result"
    },
    {
     "data": {
      "image/png": "[encoded data removed]",
      "text/plain": [
       "<Figure size 432x288 with 2 Axes>"
      ]
     },
     "metadata": {
      "needs_background": "light"
     },
     "output_type": "display_data"
    }
   ],
   "source": [
    "sns.heatmap(df.corr() , annot=True)"
   ]
  },
  {
   "cell_type": "code",
   "execution_count": 54,
   "id": "ff005a54",
   "metadata": {},
   "outputs": [
    {
     "name": "stderr",
     "output_type": "stream",
     "text": [
      "C:\\ProgramData\\Anaconda3\\lib\\site-packages\\seaborn\\_decorators.py:36: FutureWarning: Pass the following variable as a keyword arg: x. From version 0.12, the only valid positional argument will be `data`, and passing other arguments without an explicit keyword will result in an error or misinterpretation.\n",
      "  warnings.warn(\n"
     ]
    },
    {
     "data": {
      "text/plain": [
       "<AxesSubplot:xlabel='Churn', ylabel='count'>"
      ]
     },
     "execution_count": 54,
     "metadata": {},
     "output_type": "execute_result"
    },
    {
     "data": {
      "image/png": "[encoded data removed]",
      "text/plain": [
       "<Figure size 432x288 with 1 Axes>"
      ]
     },
     "metadata": {
      "needs_background": "light"
     },
     "output_type": "display_data"
    }
   ],
   "source": [
    "sns.countplot(df[\"Churn\"])"
   ]
  },
  {
   "cell_type": "code",
   "execution_count": 55,
   "id": "68831f9c",
   "metadata": {},
   "outputs": [
    {
     "data": {
      "text/plain": [
       "Index(['gender', 'SeniorCitizen', 'Partner', 'Dependents', 'tenure',\n",
       "       'PhoneService', 'MultipleLines', 'InternetService', 'OnlineSecurity',\n",
       "       'OnlineBackup', 'DeviceProtection', 'TechSupport', 'StreamingTV',\n",
       "       'StreamingMovies', 'Contract', 'PaperlessBilling', 'PaymentMethod',\n",
       "       'MonthlyCharges', 'TotalCharges', 'Churn'],\n",
       "      dtype='object')"
      ]
     },
     "execution_count": 55,
     "metadata": {},
     "output_type": "execute_result"
    }
   ],
   "source": [
    "df.columns"
   ]
  },
  {
   "cell_type": "code",
   "execution_count": 56,
   "id": "72ec4970",
   "metadata": {},
   "outputs": [
    {
     "data": {
      "text/plain": [
       "<AxesSubplot:xlabel='OnlineBackup', ylabel='count'>"
      ]
     },
     "execution_count": 56,
     "metadata": {},
     "output_type": "execute_result"
    },
    {
     "data": {
      "image/png": "[encoded data removed]",
      "text/plain": [
       "<Figure size 432x288 with 1 Axes>"
      ]
     },
     "metadata": {
      "needs_background": "light"
     },
     "output_type": "display_data"
    }
   ],
   "source": [
    "sns.countplot(x=\"OnlineBackup\", hue=\"Churn\", data=df)"
   ]
  },
  {
   "cell_type": "code",
   "execution_count": 57,
   "id": "22dc146e",
   "metadata": {},
   "outputs": [
    {
     "data": {
      "text/plain": [
       "0    2091\n",
       "2    2043\n",
       "1    1148\n",
       "Name: StreamingTV, dtype: int64"
      ]
     },
     "execution_count": 57,
     "metadata": {},
     "output_type": "execute_result"
    }
   ],
   "source": [
    "df[\"StreamingTV\"].value_counts()"
   ]
  },
  {
   "cell_type": "code",
   "execution_count": 58,
   "id": "b0d45f47",
   "metadata": {},
   "outputs": [
    {
     "data": {
      "text/plain": [
       "0    2079\n",
       "2    2055\n",
       "1    1148\n",
       "Name: StreamingMovies, dtype: int64"
      ]
     },
     "execution_count": 58,
     "metadata": {},
     "output_type": "execute_result"
    }
   ],
   "source": [
    "df[\"StreamingMovies\"].value_counts()"
   ]
  },
  {
   "cell_type": "code",
   "execution_count": 59,
   "id": "cb4c5990",
   "metadata": {},
   "outputs": [
    {
     "data": {
      "text/plain": [
       "0    2893\n",
       "2    1263\n",
       "1    1126\n",
       "Name: Contract, dtype: int64"
      ]
     },
     "execution_count": 59,
     "metadata": {},
     "output_type": "execute_result"
    }
   ],
   "source": [
    "df[\"Contract\"].value_counts()"
   ]
  },
  {
   "cell_type": "code",
   "execution_count": 60,
   "id": "c5ba8d0e",
   "metadata": {},
   "outputs": [
    {
     "data": {
      "text/plain": [
       "0    2613\n",
       "2    1521\n",
       "1    1148\n",
       "Name: TechSupport, dtype: int64"
      ]
     },
     "execution_count": 60,
     "metadata": {},
     "output_type": "execute_result"
    }
   ],
   "source": [
    "df[\"TechSupport\"].value_counts()"
   ]
  },
  {
   "cell_type": "code",
   "execution_count": 61,
   "id": "333dd9d6",
   "metadata": {},
   "outputs": [
    {
     "data": {
      "text/plain": [
       "0    2339\n",
       "2    1795\n",
       "1    1148\n",
       "Name: DeviceProtection, dtype: int64"
      ]
     },
     "execution_count": 61,
     "metadata": {},
     "output_type": "execute_result"
    }
   ],
   "source": [
    "df[\"DeviceProtection\"].value_counts()"
   ]
  },
  {
   "cell_type": "code",
   "execution_count": 62,
   "id": "f1cea806",
   "metadata": {},
   "outputs": [
    {
     "data": {
      "text/plain": [
       "0    2290\n",
       "2    1844\n",
       "1    1148\n",
       "Name: OnlineBackup, dtype: int64"
      ]
     },
     "execution_count": 62,
     "metadata": {},
     "output_type": "execute_result"
    }
   ],
   "source": [
    "df[\"OnlineBackup\"].value_counts()"
   ]
  },
  {
   "cell_type": "code",
   "execution_count": 63,
   "id": "79b8ad02",
   "metadata": {},
   "outputs": [],
   "source": [
    "x=df.drop('Churn',axis=1)"
   ]
  },
  {
   "cell_type": "code",
   "execution_count": 64,
   "id": "815c3115",
   "metadata": {},
   "outputs": [],
   "source": [
    "y=df['Churn']"
   ]
  },
  {
   "cell_type": "markdown",
   "id": "6f28df42",
   "metadata": {},
   "source": [
    "# correction Imbalanced data with SMOTETomek"
   ]
  },
  {
   "cell_type": "code",
   "execution_count": 65,
   "id": "92bfebf0",
   "metadata": {},
   "outputs": [],
   "source": [
    "from imblearn.combine import SMOTETomek"
   ]
  },
  {
   "cell_type": "code",
   "execution_count": 66,
   "id": "8f0bcb1e",
   "metadata": {},
   "outputs": [],
   "source": [
    "sm=SMOTETomek(random_state=42)"
   ]
  },
  {
   "cell_type": "code",
   "execution_count": 67,
   "id": "7c4efb78",
   "metadata": {},
   "outputs": [
    {
     "data": {
      "text/plain": [
       "0    3892\n",
       "1    1390\n",
       "Name: Churn, dtype: int64"
      ]
     },
     "execution_count": 67,
     "metadata": {},
     "output_type": "execute_result"
    }
   ],
   "source": [
    "y.value_counts()"
   ]
  },
  {
   "cell_type": "code",
   "execution_count": 68,
   "id": "93e4b553",
   "metadata": {},
   "outputs": [],
   "source": [
    "X_sm,Y_sm=sm.fit_resample(x,y)"
   ]
  },
  {
   "cell_type": "code",
   "execution_count": 69,
   "id": "f481f869",
   "metadata": {},
   "outputs": [
    {
     "data": {
      "text/plain": [
       "1    3589\n",
       "0    3589\n",
       "Name: Churn, dtype: int64"
      ]
     },
     "execution_count": 69,
     "metadata": {},
     "output_type": "execute_result"
    }
   ],
   "source": [
    "Y_sm.value_counts()"
   ]
  },
  {
   "cell_type": "markdown",
   "id": "89932602",
   "metadata": {},
   "source": [
    "# correction Imbalanced data with NearMiss"
   ]
  },
  {
   "cell_type": "code",
   "execution_count": 70,
   "id": "760ad32a",
   "metadata": {},
   "outputs": [],
   "source": [
    "from imblearn.under_sampling import NearMiss"
   ]
  },
  {
   "cell_type": "code",
   "execution_count": 71,
   "id": "4ff1645a",
   "metadata": {},
   "outputs": [],
   "source": [
    "nm=NearMiss()"
   ]
  },
  {
   "cell_type": "code",
   "execution_count": 72,
   "id": "2d0a2c1e",
   "metadata": {},
   "outputs": [],
   "source": [
    "X_nm,Y_nm=nm.fit_resample(x,y)"
   ]
  },
  {
   "cell_type": "code",
   "execution_count": 73,
   "id": "d39e5eb3",
   "metadata": {},
   "outputs": [
    {
     "data": {
      "text/plain": [
       "0    3892\n",
       "1    1390\n",
       "Name: Churn, dtype: int64"
      ]
     },
     "execution_count": 73,
     "metadata": {},
     "output_type": "execute_result"
    }
   ],
   "source": [
    "y.value_counts()"
   ]
  },
  {
   "cell_type": "code",
   "execution_count": 74,
   "id": "a5d0209e",
   "metadata": {},
   "outputs": [
    {
     "data": {
      "text/plain": [
       "0    1390\n",
       "1    1390\n",
       "Name: Churn, dtype: int64"
      ]
     },
     "execution_count": 74,
     "metadata": {},
     "output_type": "execute_result"
    }
   ],
   "source": [
    "Y_nm.value_counts()"
   ]
  },
  {
   "cell_type": "markdown",
   "id": "badef141",
   "metadata": {},
   "source": [
    "# correction Imbalanced data with RandomOverSampler"
   ]
  },
  {
   "cell_type": "code",
   "execution_count": 75,
   "id": "ea409edd",
   "metadata": {},
   "outputs": [],
   "source": [
    "from imblearn.over_sampling import RandomOverSampler"
   ]
  },
  {
   "cell_type": "code",
   "execution_count": 76,
   "id": "52009ddc",
   "metadata": {},
   "outputs": [],
   "source": [
    "ros=RandomOverSampler(random_state=100)"
   ]
  },
  {
   "cell_type": "code",
   "execution_count": 77,
   "id": "506a0b58",
   "metadata": {},
   "outputs": [],
   "source": [
    "X_ros,Y_ros=ros.fit_resample(x,y)"
   ]
  },
  {
   "cell_type": "code",
   "execution_count": 78,
   "id": "3b5621d0",
   "metadata": {},
   "outputs": [
    {
     "data": {
      "text/plain": [
       "0    3892\n",
       "1    1390\n",
       "Name: Churn, dtype: int64"
      ]
     },
     "execution_count": 78,
     "metadata": {},
     "output_type": "execute_result"
    }
   ],
   "source": [
    "y.value_counts()"
   ]
  },
  {
   "cell_type": "code",
   "execution_count": 79,
   "id": "cc6365d8",
   "metadata": {},
   "outputs": [
    {
     "data": {
      "text/plain": [
       "1    3892\n",
       "0    3892\n",
       "Name: Churn, dtype: int64"
      ]
     },
     "execution_count": 79,
     "metadata": {},
     "output_type": "execute_result"
    }
   ],
   "source": [
    "Y_ros.value_counts()"
   ]
  },
  {
   "cell_type": "markdown",
   "id": "20eefdee",
   "metadata": {},
   "source": [
    "# split data with train_test_split"
   ]
  },
  {
   "cell_type": "code",
   "execution_count": 80,
   "id": "66616d0c",
   "metadata": {},
   "outputs": [],
   "source": [
    "from sklearn.model_selection import train_test_split"
   ]
  },
  {
   "cell_type": "code",
   "execution_count": 81,
   "id": "1f783963",
   "metadata": {},
   "outputs": [],
   "source": [
    "xtrain_simple,xtest_simple,ytrain_simple,ytest_simple=train_test_split(x,y,test_size=.25,random_state=42)#without any courretion"
   ]
  },
  {
   "cell_type": "code",
   "execution_count": 82,
   "id": "0ce2e7cf",
   "metadata": {},
   "outputs": [],
   "source": [
    "xtrain_sm,xtest_sm,ytrain_sm,ytest_sm=train_test_split(X_sm,Y_sm,test_size=.25,random_state=42) # with SMOTETomek"
   ]
  },
  {
   "cell_type": "code",
   "execution_count": 83,
   "id": "71775c6a",
   "metadata": {},
   "outputs": [],
   "source": [
    "xtrain_nm,xtest_nm,ytrain_nm,ytest_nm=train_test_split(X_nm,Y_nm,test_size=.25,random_state=42) # with NearMiss"
   ]
  },
  {
   "cell_type": "code",
   "execution_count": 84,
   "id": "3d5c1b7f",
   "metadata": {},
   "outputs": [],
   "source": [
    "xtrain_ros,xtest_ros,ytrain_ros,ytest_ros=train_test_split(X_ros,Y_ros,test_size=.25,random_state=42) # with RandomOverSampler"
   ]
  },
  {
   "cell_type": "code",
   "execution_count": 85,
   "id": "55a53cf2",
   "metadata": {},
   "outputs": [
    {
     "data": {
      "text/plain": [
       "0    2925\n",
       "1    1036\n",
       "Name: Churn, dtype: int64"
      ]
     },
     "execution_count": 85,
     "metadata": {},
     "output_type": "execute_result"
    }
   ],
   "source": [
    "ytrain_simple.value_counts()"
   ]
  },
  {
   "cell_type": "code",
   "execution_count": 86,
   "id": "8a8c0176",
   "metadata": {},
   "outputs": [
    {
     "data": {
      "text/plain": [
       "1    2693\n",
       "0    2690\n",
       "Name: Churn, dtype: int64"
      ]
     },
     "execution_count": 86,
     "metadata": {},
     "output_type": "execute_result"
    }
   ],
   "source": [
    "ytrain_sm.value_counts()"
   ]
  },
  {
   "cell_type": "code",
   "execution_count": 87,
   "id": "8826ee9e",
   "metadata": {},
   "outputs": [
    {
     "data": {
      "text/plain": [
       "0    1049\n",
       "1    1036\n",
       "Name: Churn, dtype: int64"
      ]
     },
     "execution_count": 87,
     "metadata": {},
     "output_type": "execute_result"
    }
   ],
   "source": [
    "ytrain_nm.value_counts()"
   ]
  },
  {
   "cell_type": "code",
   "execution_count": 88,
   "id": "b4bc4b0b",
   "metadata": {},
   "outputs": [
    {
     "data": {
      "text/plain": [
       "1    2934\n",
       "0    2904\n",
       "Name: Churn, dtype: int64"
      ]
     },
     "execution_count": 88,
     "metadata": {},
     "output_type": "execute_result"
    }
   ],
   "source": [
    "ytrain_ros.value_counts()"
   ]
  },
  {
   "cell_type": "markdown",
   "id": "33b2748f",
   "metadata": {},
   "source": [
    "# find score with DecisionTreeClassifier,XGBoost,Ada Boost"
   ]
  },
  {
   "cell_type": "code",
   "execution_count": 98,
   "id": "80cd39f0",
   "metadata": {},
   "outputs": [],
   "source": [
    "from sklearn.tree import DecisionTreeClassifier\n",
    "import xgboost \n",
    "from xgboost import XGBClassifier\n",
    "from sklearn.ensemble import AdaBoostClassifier"
   ]
  },
  {
   "cell_type": "code",
   "execution_count": 100,
   "id": "6564c93b",
   "metadata": {},
   "outputs": [],
   "source": [
    "dtc=DecisionTreeClassifier()"
   ]
  },
  {
   "cell_type": "code",
   "execution_count": 101,
   "id": "0419455e",
   "metadata": {},
   "outputs": [],
   "source": [
    "xgb=XGBClassifier()"
   ]
  },
  {
   "cell_type": "code",
   "execution_count": 102,
   "id": "5b8e4d17",
   "metadata": {},
   "outputs": [],
   "source": [
    "adb=AdaBoostClassifier()"
   ]
  },
  {
   "cell_type": "code",
   "execution_count": 105,
   "id": "90bb7e9d",
   "metadata": {},
   "outputs": [
    {
     "data": {
      "text/plain": [
       "AdaBoostClassifier()"
      ]
     },
     "execution_count": 105,
     "metadata": {},
     "output_type": "execute_result"
    }
   ],
   "source": [
    "dtc.fit(xtrain_simple,ytrain_simple)\n",
    "dtc.fit(xtrain_sm,ytrain_sm)\n",
    "dtc.fit(xtrain_nm,ytrain_nm)\n",
    "dtc.fit(xtrain_ros,ytrain_ros)\n",
    "# fit DecisionTreeClassifier\n",
    "xgb.fit(xtrain_simple,ytrain_simple)\n",
    "xgb.fit(xtrain_sm,ytrain_sm)\n",
    "xgb.fit(xtrain_nm,ytrain_nm)\n",
    "xgb.fit(xtrain_ros,ytrain_ros)\n",
    "# fit XGBClassifier\n",
    "adb.fit(xtrain_simple,ytrain_simple)\n",
    "adb.fit(xtrain_sm,ytrain_sm)\n",
    "adb.fit(xtrain_nm,ytrain_nm)\n",
    "adb.fit(xtrain_ros,ytrain_ros)\n",
    "# fit AdaBoostClassifier"
   ]
  },
  {
   "cell_type": "code",
   "execution_count": 115,
   "id": "f5334c09",
   "metadata": {},
   "outputs": [
    {
     "name": "stdout",
     "output_type": "stream",
     "text": [
      " DecisionTreeClassifier without correction Score:  0.906888720666162 \n",
      " DecisionTreeClassifier SMOTETomek Score:  0.8479108635097493 \n",
      " DecisionTreeClassifier NearMiss Score:  0.943884892086331 \n",
      " DecisionTreeClassifier RandomOverSampler Score:  0.8478931140801644\n"
     ]
    }
   ],
   "source": [
    "print(\" DecisionTreeClassifier without correction Score: \",dtc.score(xtest_simple,ytest_simple),\"\\n\",\n",
    "\"DecisionTreeClassifier SMOTETomek Score: \",dtc.score(xtest_sm,ytest_sm),\"\\n\",\n",
    "\"DecisionTreeClassifier NearMiss Score: \",dtc.score(xtest_nm,ytest_nm),\"\\n\",\n",
    "\"DecisionTreeClassifier RandomOverSampler Score: \",dtc.score(xtest_ros,ytest_ros))"
   ]
  },
  {
   "cell_type": "code",
   "execution_count": 116,
   "id": "785bea2c",
   "metadata": {},
   "outputs": [
    {
     "name": "stdout",
     "output_type": "stream",
     "text": [
      " XGBClassifier without correction Score:  0.8841786525359576 \n",
      " XGBClassifier SMOTETomek Score:  0.8752089136490251 \n",
      " XGBClassifier NearMiss Score:  0.8733812949640288 \n",
      " XGBClassifier RandomOverSampler Score:  0.8535457348406988\n"
     ]
    }
   ],
   "source": [
    "print(\" XGBClassifier without correction Score: \",xgb.score(xtest_simple,ytest_simple),\"\\n\",\n",
    "\"XGBClassifier SMOTETomek Score: \",xgb.score(xtest_sm,ytest_sm),\"\\n\",\n",
    "\"XGBClassifier NearMiss Score: \",xgb.score(xtest_nm,ytest_nm),\"\\n\",\n",
    "\"XGBClassifier RandomOverSampler Score: \",xgb.score(xtest_ros,ytest_ros))"
   ]
  },
  {
   "cell_type": "code",
   "execution_count": 117,
   "id": "f9c2fe43",
   "metadata": {},
   "outputs": [
    {
     "name": "stdout",
     "output_type": "stream",
     "text": [
      " AdaBoostClassifier without correction Score:  0.7365632096896291 \n",
      " AdaBoostClassifier SMOTETomek Score:  0.7727019498607243 \n",
      " AdaBoostClassifier NearMiss Score:  0.6517985611510791 \n",
      " AdaBoostClassifier RandomOverSampler Score:  0.7435765673175745\n"
     ]
    }
   ],
   "source": [
    "print(\" AdaBoostClassifier without correction Score: \",adb.score(xtest_simple,ytest_simple),\"\\n\",\n",
    "\"AdaBoostClassifier SMOTETomek Score: \",adb.score(xtest_sm,ytest_sm),\"\\n\",\n",
    "\"AdaBoostClassifier NearMiss Score: \",adb.score(xtest_nm,ytest_nm),\"\\n\",\n",
    "\"AdaBoostClassifier RandomOverSampler Score: \",adb.score(xtest_ros,ytest_ros))"
   ]
  },
  {
   "cell_type": "markdown",
   "id": "0acc16ce",
   "metadata": {},
   "source": [
    "# find score with K Fold Cross Validation"
   ]
  },
  {
   "cell_type": "code",
   "execution_count": 118,
   "id": "d62950b1",
   "metadata": {},
   "outputs": [],
   "source": [
    "from sklearn.model_selection import KFold, cross_val_score"
   ]
  },
  {
   "cell_type": "code",
   "execution_count": 120,
   "id": "e5cb078e",
   "metadata": {},
   "outputs": [],
   "source": [
    "kfol=KFold(n_splits=5)"
   ]
  },
  {
   "cell_type": "code",
   "execution_count": 131,
   "id": "6c2de022",
   "metadata": {},
   "outputs": [
    {
     "name": "stdout",
     "output_type": "stream",
     "text": [
      " DecisionTreeClassifier without correction Score:  [0.73584906 0.68181818 0.66666667 0.76893939 0.76136364] \n",
      " and Max Score:  0.7878787878787878 \n",
      "\n",
      "\n",
      " DecisionTreeClassifier SMOTETomek Score:  [0.79387187 0.77158774 0.73816156 0.75487465 0.79665738] \n",
      " and Max Score:  0.7966573816155988 \n",
      "\n",
      "\n",
      " DecisionTreeClassifier NearMiss Score:  [0.63309353 0.56115108 0.56115108 0.55395683 0.54676259] \n",
      " and Max Score:  0.5971223021582733 \n",
      "\n",
      "\n",
      " DecisionTreeClassifier RandomOverSampler Score:  [0.68974359 0.77120823 0.75321337 0.78663239 0.72750643] \n",
      " and Max Score:  0.7660668380462725\n"
     ]
    }
   ],
   "source": [
    "print(\" DecisionTreeClassifier without correction Score: \",cross_val_score(dtc,xtest_simple,ytest_simple,cv=kfol),\"\\n\",\n",
    "\"and Max Score: \",  cross_val_score(dtc,xtest_simple,ytest_simple,cv=kfol).max(), \"\\n\"\"\\n\"\"\\n\",   \n",
    "\"DecisionTreeClassifier SMOTETomek Score: \",cross_val_score(dtc,xtest_sm,ytest_sm,cv=kfol),\"\\n\",\n",
    "\"and Max Score: \",  cross_val_score(dtc,xtest_sm,ytest_sm,cv=kfol).max(), \"\\n\"\"\\n\"\"\\n\",      \n",
    "\"DecisionTreeClassifier NearMiss Score: \",cross_val_score(dtc,xtest_nm,ytest_nm,cv=kfol),\"\\n\",\n",
    "\"and Max Score: \",  cross_val_score(dtc,xtest_nm,ytest_nm,cv=kfol).max(), \"\\n\"\"\\n\"\"\\n\",       \n",
    "\"DecisionTreeClassifier RandomOverSampler Score: \",cross_val_score(dtc,xtest_ros,ytest_ros,cv=kfol),\"\\n\",\n",
    "\"and Max Score: \",  cross_val_score(dtc,xtest_ros,ytest_ros,cv=kfol).max() \n",
    "     )"
   ]
  },
  {
   "cell_type": "code",
   "execution_count": 132,
   "id": "4766b4a1",
   "metadata": {},
   "outputs": [
    {
     "name": "stdout",
     "output_type": "stream",
     "text": [
      " XGBClassifier without correction Score:  [0.77735849 0.73484848 0.8030303  0.78030303 0.77651515] \n",
      " and Max Score:  0.803030303030303 \n",
      "\n",
      "\n",
      " XGBClassifier SMOTETomek Score:  [0.82172702 0.81615599 0.83008357 0.79665738 0.84401114] \n",
      " and Max Score:  0.8440111420612814 \n",
      "\n",
      "\n",
      " XGBClassifier NearMiss Score:  [0.67625899 0.64028777 0.61870504 0.60431655 0.62589928] \n",
      " and Max Score:  0.6762589928057554 \n",
      "\n",
      "\n",
      " XGBClassifier RandomOverSampler Score:  [0.73846154 0.76606684 0.79691517 0.79691517 0.75064267] \n",
      " and Max Score:  0.7969151670951157\n"
     ]
    }
   ],
   "source": [
    "print(\" XGBClassifier without correction Score: \",cross_val_score(xgb,xtest_simple,ytest_simple,cv=kfol),\"\\n\",\n",
    "\"and Max Score: \",  cross_val_score(xgb,xtest_simple,ytest_simple,cv=kfol).max(), \"\\n\"\"\\n\"\"\\n\",   \n",
    "\"XGBClassifier SMOTETomek Score: \",cross_val_score(xgb,xtest_sm,ytest_sm,cv=kfol),\"\\n\",\n",
    "\"and Max Score: \",  cross_val_score(xgb,xtest_sm,ytest_sm,cv=kfol).max(), \"\\n\"\"\\n\"\"\\n\",      \n",
    "\"XGBClassifier NearMiss Score: \",cross_val_score(xgb,xtest_nm,ytest_nm,cv=kfol),\"\\n\",\n",
    "\"and Max Score: \",  cross_val_score(xgb,xtest_nm,ytest_nm,cv=kfol).max(), \"\\n\"\"\\n\"\"\\n\",       \n",
    "\"XGBClassifier RandomOverSampler Score: \",cross_val_score(xgb,xtest_ros,ytest_ros,cv=kfol),\"\\n\",\n",
    "\"and Max Score: \",  cross_val_score(xgb,xtest_ros,ytest_ros,cv=kfol).max() \n",
    "     )"
   ]
  },
  {
   "cell_type": "code",
   "execution_count": 133,
   "id": "e688c19d",
   "metadata": {},
   "outputs": [
    {
     "name": "stdout",
     "output_type": "stream",
     "text": [
      " AdaBoostClassifier without correction Score:  [0.78867925 0.73484848 0.78030303 0.81439394 0.81818182] \n",
      " and Max Score:  0.8181818181818182 \n",
      "\n",
      "\n",
      " AdaBoostClassifier SMOTETomek Score:  [0.82729805 0.82172702 0.82172702 0.80222841 0.8551532 ] \n",
      " and Max Score:  0.8551532033426184 \n",
      "\n",
      "\n",
      " AdaBoostClassifier NearMiss Score:  [0.69064748 0.65467626 0.6618705  0.66906475 0.68345324] \n",
      " and Max Score:  0.6906474820143885 \n",
      "\n",
      "\n",
      " AdaBoostClassifier RandomOverSampler Score:  [0.73333333 0.72750643 0.79177378 0.77634961 0.73007712] \n",
      " and Max Score:  0.7917737789203085\n"
     ]
    }
   ],
   "source": [
    "print(\" AdaBoostClassifier without correction Score: \",cross_val_score(adb,xtest_simple,ytest_simple,cv=kfol),\"\\n\",\n",
    "\"and Max Score: \",  cross_val_score(adb,xtest_simple,ytest_simple,cv=kfol).max(), \"\\n\"\"\\n\"\"\\n\",   \n",
    "\"AdaBoostClassifier SMOTETomek Score: \",cross_val_score(adb,xtest_sm,ytest_sm,cv=kfol),\"\\n\",\n",
    "\"and Max Score: \",  cross_val_score(adb,xtest_sm,ytest_sm,cv=kfol).max(), \"\\n\"\"\\n\"\"\\n\",      \n",
    "\"AdaBoostClassifier NearMiss Score: \",cross_val_score(adb,xtest_nm,ytest_nm,cv=kfol),\"\\n\",\n",
    "\"and Max Score: \",  cross_val_score(adb,xtest_nm,ytest_nm,cv=kfol).max(), \"\\n\"\"\\n\"\"\\n\",       \n",
    "\"AdaBoostClassifier RandomOverSampler Score: \",cross_val_score(adb,xtest_ros,ytest_ros,cv=kfol),\"\\n\",\n",
    "\"and Max Score: \",  cross_val_score(adb,xtest_ros,ytest_ros,cv=kfol).max() \n",
    "     )"
   ]
  },
  {
   "cell_type": "markdown",
   "id": "1a2526cd",
   "metadata": {},
   "source": [
    "# find score with Stratified k fold cross Validation"
   ]
  },
  {
   "cell_type": "code",
   "execution_count": 134,
   "id": "1439affe",
   "metadata": {},
   "outputs": [],
   "source": [
    "from sklearn.model_selection import StratifiedKFold"
   ]
  },
  {
   "cell_type": "code",
   "execution_count": 136,
   "id": "a00a935e",
   "metadata": {},
   "outputs": [],
   "source": [
    "sk=StratifiedKFold()"
   ]
  },
  {
   "cell_type": "code",
   "execution_count": 137,
   "id": "a43908ab",
   "metadata": {},
   "outputs": [
    {
     "name": "stdout",
     "output_type": "stream",
     "text": [
      " DecisionTreeClassifier without correction Score:  [0.72075472 0.73484848 0.67424242 0.74242424 0.71212121] \n",
      " and Max Score:  0.7462121212121212 \n",
      "\n",
      "\n",
      " DecisionTreeClassifier SMOTETomek Score:  [0.75766017 0.75766017 0.74930362 0.74373259 0.7994429 ] \n",
      " and Max Score:  0.7855153203342619 \n",
      "\n",
      "\n",
      " DecisionTreeClassifier NearMiss Score:  [0.65467626 0.58273381 0.55395683 0.58992806 0.58992806] \n",
      " and Max Score:  0.6330935251798561 \n",
      "\n",
      "\n",
      " DecisionTreeClassifier RandomOverSampler Score:  [0.71794872 0.75064267 0.75064267 0.79177378 0.74293059] \n",
      " and Max Score:  0.7866323907455013\n"
     ]
    }
   ],
   "source": [
    "print(\" DecisionTreeClassifier without correction Score: \",cross_val_score(dtc,xtest_simple,ytest_simple,cv=sk),\"\\n\",\n",
    "\"and Max Score: \",  cross_val_score(dtc,xtest_simple,ytest_simple,cv=sk).max(), \"\\n\"\"\\n\"\"\\n\",   \n",
    "\"DecisionTreeClassifier SMOTETomek Score: \",cross_val_score(dtc,xtest_sm,ytest_sm,cv=sk),\"\\n\",\n",
    "\"and Max Score: \",  cross_val_score(dtc,xtest_sm,ytest_sm,cv=sk).max(), \"\\n\"\"\\n\"\"\\n\",      \n",
    "\"DecisionTreeClassifier NearMiss Score: \",cross_val_score(dtc,xtest_nm,ytest_nm,cv=sk),\"\\n\",\n",
    "\"and Max Score: \",  cross_val_score(dtc,xtest_nm,ytest_nm,cv=sk).max(), \"\\n\"\"\\n\"\"\\n\",       \n",
    "\"DecisionTreeClassifier RandomOverSampler Score: \",cross_val_score(dtc,xtest_ros,ytest_ros,cv=sk),\"\\n\",\n",
    "\"and Max Score: \",  cross_val_score(dtc,xtest_ros,ytest_ros,cv=sk).max() \n",
    "     )"
   ]
  },
  {
   "cell_type": "code",
   "execution_count": 138,
   "id": "1d866925",
   "metadata": {},
   "outputs": [
    {
     "name": "stdout",
     "output_type": "stream",
     "text": [
      " XGBClassifier without correction Score:  [0.78490566 0.78030303 0.74242424 0.78409091 0.77272727] \n",
      " and Max Score:  0.7849056603773585 \n",
      "\n",
      "\n",
      " XGBClassifier SMOTETomek Score:  [0.80501393 0.81058496 0.82172702 0.7994429  0.84679666] \n",
      " and Max Score:  0.8467966573816156 \n",
      "\n",
      "\n",
      " XGBClassifier NearMiss Score:  [0.69064748 0.66906475 0.61870504 0.61870504 0.62589928] \n",
      " and Max Score:  0.6906474820143885 \n",
      "\n",
      "\n",
      " XGBClassifier RandomOverSampler Score:  [0.74358974 0.76349614 0.81233933 0.79177378 0.75578406] \n",
      " and Max Score:  0.8123393316195373\n"
     ]
    }
   ],
   "source": [
    "print(\" XGBClassifier without correction Score: \",cross_val_score(xgb,xtest_simple,ytest_simple,cv=sk),\"\\n\",\n",
    "\"and Max Score: \",  cross_val_score(xgb,xtest_simple,ytest_simple,cv=sk).max(), \"\\n\"\"\\n\"\"\\n\",   \n",
    "\"XGBClassifier SMOTETomek Score: \",cross_val_score(xgb,xtest_sm,ytest_sm,cv=sk),\"\\n\",\n",
    "\"and Max Score: \",  cross_val_score(xgb,xtest_sm,ytest_sm,cv=sk).max(), \"\\n\"\"\\n\"\"\\n\",      \n",
    "\"XGBClassifier NearMiss Score: \",cross_val_score(xgb,xtest_nm,ytest_nm,cv=sk),\"\\n\",\n",
    "\"and Max Score: \",  cross_val_score(xgb,xtest_nm,ytest_nm,cv=sk).max(), \"\\n\"\"\\n\"\"\\n\",       \n",
    "\"XGBClassifier RandomOverSampler Score: \",cross_val_score(xgb,xtest_ros,ytest_ros,cv=sk),\"\\n\",\n",
    "\"and Max Score: \",  cross_val_score(xgb,xtest_ros,ytest_ros,cv=sk).max() \n",
    "     )"
   ]
  },
  {
   "cell_type": "code",
   "execution_count": 139,
   "id": "76992462",
   "metadata": {},
   "outputs": [
    {
     "name": "stdout",
     "output_type": "stream",
     "text": [
      " AdaBoostClassifier without correction Score:  [0.79245283 0.77272727 0.73484848 0.80681818 0.8030303 ] \n",
      " and Max Score:  0.8068181818181818 \n",
      "\n",
      "\n",
      " AdaBoostClassifier SMOTETomek Score:  [0.82729805 0.82729805 0.80779944 0.8189415  0.84679666] \n",
      " and Max Score:  0.8467966573816156 \n",
      "\n",
      "\n",
      " AdaBoostClassifier NearMiss Score:  [0.66906475 0.64028777 0.63309353 0.64028777 0.68345324] \n",
      " and Max Score:  0.6834532374100719 \n",
      "\n",
      "\n",
      " AdaBoostClassifier RandomOverSampler Score:  [0.71794872 0.71979434 0.77634961 0.781491   0.72493573] \n",
      " and Max Score:  0.781491002570694\n"
     ]
    }
   ],
   "source": [
    "print(\" AdaBoostClassifier without correction Score: \",cross_val_score(adb,xtest_simple,ytest_simple,cv=sk),\"\\n\",\n",
    "\"and Max Score: \",  cross_val_score(adb,xtest_simple,ytest_simple,cv=sk).max(), \"\\n\"\"\\n\"\"\\n\",   \n",
    "\"AdaBoostClassifier SMOTETomek Score: \",cross_val_score(adb,xtest_sm,ytest_sm,cv=sk),\"\\n\",\n",
    "\"and Max Score: \",  cross_val_score(adb,xtest_sm,ytest_sm,cv=sk).max(), \"\\n\"\"\\n\"\"\\n\",      \n",
    "\"AdaBoostClassifier NearMiss Score: \",cross_val_score(adb,xtest_nm,ytest_nm,cv=sk),\"\\n\",\n",
    "\"and Max Score: \",  cross_val_score(adb,xtest_nm,ytest_nm,cv=sk).max(), \"\\n\"\"\\n\"\"\\n\",       \n",
    "\"AdaBoostClassifier RandomOverSampler Score: \",cross_val_score(adb,xtest_ros,ytest_ros,cv=sk),\"\\n\",\n",
    "\"and Max Score: \",  cross_val_score(adb,xtest_ros,ytest_ros,cv=sk).max() \n",
    "     )"
   ]
  },
  {
   "cell_type": "code",
   "execution_count": null,
   "id": "3767c24b",
   "metadata": {},
   "outputs": [],
   "source": []
  }
 ],
 "metadata": {
  "kernelspec": {
   "display_name": "Python 3 (ipykernel)",
   "language": "python",
   "name": "python3"
  },
  "language_info": {
   "codemirror_mode": {
    "name": "ipython",
    "version": 3
   },
   "file_extension": ".py",
   "mimetype": "text/x-python",
   "name": "python",
   "nbconvert_exporter": "python",
   "pygments_lexer": "ipython3",
   "version": "3.9.7"
  }
 },
 "nbformat": 4,
 "nbformat_minor": 5
}
